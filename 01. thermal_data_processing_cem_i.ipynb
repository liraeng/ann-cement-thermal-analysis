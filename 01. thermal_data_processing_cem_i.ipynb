{
  "cells": [
    {
      "cell_type": "markdown",
      "metadata": {
        "id": "dF0t0UxdVqS0"
      },
      "source": [
        "**Initial Data Processing**\n",
        "\n",
        "Importing as an array file, and suppressing zeros from dataset\n",
        "\n",
        "> Replace the '**FileName**' field for the filename to be analyzed;\n",
        "\n",
        "> All the csv files must be in the same location as the python file."
      ]
    },
    {
      "cell_type": "code",
      "execution_count": 1,
      "metadata": {
        "id": "udM25NLTKUno"
      },
      "outputs": [],
      "source": [
        "import csv\n",
        "\n",
        "FileName = 'CEM I.csv'\n",
        "SupressZeros = True\n",
        "\n",
        "# importing csv file as an array file\n",
        "with open(FileName) as csv_file:\n",
        "    csv_file = list(csv.reader(csv_file, delimiter=';'))\n",
        "\n",
        "# with zero supressing\n",
        "if SupressZeros:\n",
        "    csv_zero_suppressed = csv_file\n",
        "    for _index in range(len(csv_zero_suppressed) - 1, 0, -1):\n",
        "        if csv_zero_suppressed[_index][1] == '0':\n",
        "            del csv_zero_suppressed[_index]\n",
        "    x_header = csv_zero_suppressed[0][0]\n",
        "    x_axis = [float(_lines[0].replace(',','.')) for _lines in csv_zero_suppressed[1:]]\n",
        "    y_header = csv_zero_suppressed[0][1]\n",
        "    y_axis = [float(_lines[1].replace(',','.')) for _lines in csv_zero_suppressed[1:]]\n",
        "\n",
        "# without zero suppressing\n",
        "else:\n",
        "    x_header = csv_file[0][0]\n",
        "    x_axis = [float(_lines[0].replace(',','.')) for _lines in csv_file[1:]]\n",
        "    y_header = csv_file[0][1]\n",
        "    y_axis = [float(_lines[1].replace(',','.')) for _lines in csv_file[1:]]"
      ]
    },
    {
      "cell_type": "markdown",
      "source": [
        "**Smoothing the Data using ANN Regressor (MLP Regressor)**\n",
        "\n",
        "Implementation using an Multilayer Perceptron Regressor\n",
        "\n",
        "> For optimization you must change the **hidden_layer_sizes** and **max_iter** only. All the rest was tested to fit the best **R2 Score** and minimal **RMSE** for that kind of data;\n",
        "\n",
        "> A strategy for decrease the signal noise is decrease the **hidden layer size** and the **max iter** params.\n",
        "\n",
        "Docs: https://scikit-learn.org/stable/modules/generated/sklearn.neural_network.MLPRegressor.html"
      ],
      "metadata": {
        "id": "czPZ1vgO4KNB"
      }
    },
    {
      "cell_type": "code",
      "source": [
        "import warnings\n",
        "import pandas as pd\n",
        "import matplotlib.pyplot as plt\n",
        "\n",
        "from sklearn.neural_network import MLPRegressor\n",
        "from sklearn.model_selection import train_test_split\n",
        "\n",
        "from sklearn.exceptions import DataConversionWarning\n",
        "warnings.filterwarnings(action='ignore', category=DataConversionWarning)\n",
        "\n",
        "#input definition\n",
        "X, y = pd.DataFrame(x_axis), pd.DataFrame(y_axis)\n",
        "X = X.values.reshape(-1,1)\n",
        "\n",
        "# dataset split\n",
        "X_train, X_test, y_train, y_test = train_test_split(X, y, random_state=1)\n",
        "\n",
        "\n",
        "# ANN definition\n",
        "regressor = MLPRegressor(hidden_layer_sizes=(1000, 100),\n",
        "                         activation='tanh',\n",
        "                         solver='lbfgs',\n",
        "                         max_iter=2000,\n",
        "                         random_state=0,\n",
        "                         tol=0.001)\n",
        "\n",
        "# model fitting\n",
        "regressor.fit(X_train, y_train)\n",
        "\n",
        "# range prediction\n",
        "y_predicted = regressor.predict(X)"
      ],
      "metadata": {
        "id": "T-CwDw1rsPdh"
      },
      "execution_count": 2,
      "outputs": []
    },
    {
      "cell_type": "markdown",
      "source": [
        "**Initial Data Visualization**\n",
        "\n",
        "Comparison between the original data and ANN Model Generated, using error metrics to evaluate the proposed model\n",
        "\n",
        "> R2 score is a metric that evaluate the model performance. So that as our regression line moves towards perfection, R2 score move towards 1. And the model performance improves.\n",
        "\n",
        "> The MAE measures the average magnitude of the errors in a set of forecasts, without considering their direction. It measures accuracy for continuous variables.\n",
        "\n",
        "> The RMSE is a quadratic scoring rule which measures the average magnitude of the error. The equation for the RMSE is given in both of the references."
      ],
      "metadata": {
        "id": "qJYoGrSB4smg"
      }
    },
    {
      "cell_type": "code",
      "source": [
        "# Graph plotting\n",
        "plt.scatter(x_axis, y_axis, marker='x', color='blue', alpha=0.4, label='Initial Data')\n",
        "plt.plot(x_axis, y_predicted, color='green', label='ANN Model')\n",
        "plt.legend(loc='upper right', frameon=False, fontsize=12)\n",
        "plt.show()"
      ],
      "metadata": {
        "colab": {
          "base_uri": "https://localhost:8080/",
          "height": 265
        },
        "id": "g6Q8Pf6-CSm6",
        "outputId": "90b82915-6f83-433f-c923-652c768d4731"
      },
      "execution_count": 3,
      "outputs": [
        {
          "output_type": "display_data",
          "data": {
            "text/plain": [
              "<Figure size 432x288 with 1 Axes>"
            ],
            "image/png": "[encoded data removed]"
          },
          "metadata": {
            "needs_background": "light"
          }
        }
      ]
    },
    {
      "cell_type": "markdown",
      "source": [
        "**True vs Predicted**\n",
        "\n",
        "For a good fit, the points should be close to the fitted line, with narrow confidence bands. Points on the left or right of the plot, furthest from the mean, have the most leverage and effectively try to pull the fitted line toward the point. Points t\n",
        "hat are vertically distant from the line represent possible outliers. Both types of points can adversely affect the fit."
      ],
      "metadata": {
        "id": "UXVcTHeWfq85"
      }
    },
    {
      "cell_type": "code",
      "source": [
        "from math import sqrt\n",
        "from sklearn.metrics import r2_score, mean_squared_error, mean_absolute_error\n",
        "\n",
        "# main plot definition\n",
        "plt.figure(figsize=(6,6))\n",
        "plt.scatter(y_axis, y_predicted, c='crimson')\n",
        "\n",
        "# axis limits\n",
        "p1 = max(max(y_predicted) + 1, max(y_axis) + 1)\n",
        "p2 = min(min(y_predicted) - 1, min(y_axis) - 1)\n",
        "\n",
        "plt.plot([p1, p2], [p1, p2], 'b-')\n",
        "plt.xlabel('True Values', fontsize=15)\n",
        "plt.ylabel('Predictions', fontsize=15)\n",
        "plt.axis('equal')\n",
        "\n",
        "# error metrics evaluation\n",
        "_metric1 = 'R2 Score: {:.4f}'.format(float(r2_score(y_axis, y_predicted)))\n",
        "_metric2 = 'MAE: {:.4f}'.format(sqrt(mean_absolute_error(y_axis, y_predicted)))\n",
        "_metric3 = 'RMSE: {:.4f}\\n'.format(sqrt(mean_squared_error(y_axis, y_predicted, squared=True)))\n",
        "\n",
        "plt.text(0, 15, _metric1 + '\\n' + _metric2 + '\\n' +_metric3 + '\\n', fontsize=14)\n",
        "plt.show()"
      ],
      "metadata": {
        "colab": {
          "base_uri": "https://localhost:8080/",
          "height": 393
        },
        "id": "xUQriNm_e7FA",
        "outputId": "4ed03464-7e0e-4766-8422-bfa4926a1210"
      },
      "execution_count": 4,
      "outputs": [
        {
          "output_type": "display_data",
          "data": {
            "text/plain": [
              "<Figure size 432x432 with 1 Axes>"
            ],
            "image/png": "[encoded data removed]"
          },
          "metadata": {
            "needs_background": "light"
          }
        }
      ]
    },
    {
      "cell_type": "markdown",
      "source": [
        "**Boxplot Distribution**\n",
        "\n",
        "In descriptive statistics, a box plot or boxplot is used in explanatory data analysis. Box plots visually show the distribution of numerical data and skewness through displaying the data quartiles (or percentiles) and averages."
      ],
      "metadata": {
        "id": "zkDOyGOvYmjL"
      }
    },
    {
      "cell_type": "code",
      "source": [
        "import pandas as pd\n",
        "import matplotlib.pyplot as plt\n",
        "import seaborn as sns\n",
        "\n",
        "# load data file\n",
        "df = pd.DataFrame({y_header + ' ': y_axis, 'Predicted':y_predicted})\n",
        "\n",
        "# reshape the d dataframe suitable for statsmodels package \n",
        "df_melt = pd.melt(df.reset_index(), id_vars=['index'])\n",
        "\n",
        "# replace column names\n",
        "df_melt.columns = ['index', 'Treatments', 'Temperature']\n",
        "\n",
        "sns.set_palette('Set2')\n",
        "sns.boxplot(x='Treatments', y='Temperature', data=df_melt)\n",
        "sns.stripplot(x='Treatments', y='Temperature', data=df_melt, color='#0066cc', alpha=0.6)\n",
        "plt.show()"
      ],
      "metadata": {
        "colab": {
          "base_uri": "https://localhost:8080/",
          "height": 279
        },
        "id": "CLxym7q88AtN",
        "outputId": "b4f36a73-fbf6-47aa-8d8c-da02f2b7dac1"
      },
      "execution_count": 5,
      "outputs": [
        {
          "output_type": "display_data",
          "data": {
            "text/plain": [
              "<Figure size 432x288 with 1 Axes>"
            ],
            "image/png": "[encoded data removed]"
          },
          "metadata": {
            "needs_background": "light"
          }
        }
      ]
    },
    {
      "cell_type": "markdown",
      "source": [
        "**ANOVA Analysis (Variance Analysis)**\n",
        "\n",
        "Analysis of variance, or ANOVA, is a statistical method that separates observed variance data into different components to use for additional tests."
      ],
      "metadata": {
        "id": "JBSMMalT4HaJ"
      }
    },
    {
      "cell_type": "code",
      "source": [
        "try:\n",
        "    import bioinfokit\n",
        "except ModuleNotFoundError:\n",
        "    !pip install bioinfokit\n",
        "from bioinfokit.analys import stat\n",
        "\n",
        "# model definition and summary\n",
        "anova = stat()\n",
        "anova.anova_stat(df=df_melt, res_var='Temperature', anova_model='Temperature ~ C(Treatments)')\n",
        "anova.anova_summary"
      ],
      "metadata": {
        "colab": {
          "base_uri": "https://localhost:8080/",
          "height": 792
        },
        "id": "Acul3DqW4Gxw",
        "outputId": "8627dfbc-9f90-4291-8f80-5a897017f031"
      },
      "execution_count": 6,
      "outputs": [
        {
          "output_type": "stream",
          "name": "stdout",
          "text": [
            "Collecting bioinfokit\n",
            "  Downloading bioinfokit-2.0.8.tar.gz (84 kB)\n",
            "\u001b[?25l\r\u001b[K     |███▉                            | 10 kB 20.4 MB/s eta 0:00:01\r\u001b[K     |███████▊                        | 20 kB 26.7 MB/s eta 0:00:01\r\u001b[K     |███████████▋                    | 30 kB 13.7 MB/s eta 0:00:01\r\u001b[K     |███████████████▌                | 40 kB 10.5 MB/s eta 0:00:01\r\u001b[K     |███████████████████▍            | 51 kB 3.8 MB/s eta 0:00:01\r\u001b[K     |███████████████████████▎        | 61 kB 4.5 MB/s eta 0:00:01\r\u001b[K     |███████████████████████████     | 71 kB 4.8 MB/s eta 0:00:01\r\u001b[K     |███████████████████████████████ | 81 kB 5.1 MB/s eta 0:00:01\r\u001b[K     |████████████████████████████████| 84 kB 2.2 MB/s \n",
            "\u001b[?25hRequirement already satisfied: pandas in /usr/local/lib/python3.7/dist-packages (from bioinfokit) (1.3.5)\n",
            "Requirement already satisfied: numpy in /usr/local/lib/python3.7/dist-packages (from bioinfokit) (1.21.5)\n",
            "Requirement already satisfied: matplotlib in /usr/local/lib/python3.7/dist-packages (from bioinfokit) (3.2.2)\n",
            "Requirement already satisfied: scipy in /usr/local/lib/python3.7/dist-packages (from bioinfokit) (1.4.1)\n",
            "Requirement already satisfied: scikit-learn in /usr/local/lib/python3.7/dist-packages (from bioinfokit) (1.0.2)\n",
            "Requirement already satisfied: seaborn in /usr/local/lib/python3.7/dist-packages (from bioinfokit) (0.11.2)\n",
            "Requirement already satisfied: matplotlib-venn in /usr/local/lib/python3.7/dist-packages (from bioinfokit) (0.11.6)\n",
            "Requirement already satisfied: tabulate in /usr/local/lib/python3.7/dist-packages (from bioinfokit) (0.8.9)\n",
            "Requirement already satisfied: statsmodels in /usr/local/lib/python3.7/dist-packages (from bioinfokit) (0.10.2)\n",
            "Collecting textwrap3\n",
            "  Downloading textwrap3-0.9.2-py2.py3-none-any.whl (12 kB)\n",
            "Collecting adjustText\n",
            "  Downloading adjustText-0.7.3.tar.gz (7.5 kB)\n",
            "Requirement already satisfied: kiwisolver>=1.0.1 in /usr/local/lib/python3.7/dist-packages (from matplotlib->bioinfokit) (1.4.0)\n",
            "Requirement already satisfied: python-dateutil>=2.1 in /usr/local/lib/python3.7/dist-packages (from matplotlib->bioinfokit) (2.8.2)\n",
            "Requirement already satisfied: cycler>=0.10 in /usr/local/lib/python3.7/dist-packages (from matplotlib->bioinfokit) (0.11.0)\n",
            "Requirement already satisfied: pyparsing!=2.0.4,!=2.1.2,!=2.1.6,>=2.0.1 in /usr/local/lib/python3.7/dist-packages (from matplotlib->bioinfokit) (3.0.7)\n",
            "Requirement already satisfied: typing-extensions in /usr/local/lib/python3.7/dist-packages (from kiwisolver>=1.0.1->matplotlib->bioinfokit) (3.10.0.2)\n",
            "Requirement already satisfied: six>=1.5 in /usr/local/lib/python3.7/dist-packages (from python-dateutil>=2.1->matplotlib->bioinfokit) (1.15.0)\n",
            "Requirement already satisfied: pytz>=2017.3 in /usr/local/lib/python3.7/dist-packages (from pandas->bioinfokit) (2018.9)\n",
            "Requirement already satisfied: threadpoolctl>=2.0.0 in /usr/local/lib/python3.7/dist-packages (from scikit-learn->bioinfokit) (3.1.0)\n",
            "Requirement already satisfied: joblib>=0.11 in /usr/local/lib/python3.7/dist-packages (from scikit-learn->bioinfokit) (1.1.0)\n",
            "Requirement already satisfied: patsy>=0.4.0 in /usr/local/lib/python3.7/dist-packages (from statsmodels->bioinfokit) (0.5.2)\n",
            "Building wheels for collected packages: bioinfokit, adjustText\n",
            "  Building wheel for bioinfokit (setup.py) ... \u001b[?25l\u001b[?25hdone\n",
            "  Created wheel for bioinfokit: filename=bioinfokit-2.0.8-py3-none-any.whl size=56750 sha256=06ff401c27fe832ee7199ca8e080ce077e203f8e49e2c7b870c1ef18115da45d\n",
            "  Stored in directory: /root/.cache/pip/wheels/0d/b0/a4/2be59655e33c889f2197d43e99ed077f05a6559e24ce28e21a\n",
            "  Building wheel for adjustText (setup.py) ... \u001b[?25l\u001b[?25hdone\n",
            "  Created wheel for adjustText: filename=adjustText-0.7.3-py3-none-any.whl size=7097 sha256=b7341823b2408e5a78682f72bea69f0db4b27e4797ea01a716505fbf040d502a\n",
            "  Stored in directory: /root/.cache/pip/wheels/2f/98/32/afbf902d8f040fadfdf0a44357e4ab750afe165d873bf5893d\n",
            "Successfully built bioinfokit adjustText\n",
            "Installing collected packages: textwrap3, adjustText, bioinfokit\n",
            "Successfully installed adjustText-0.7.3 bioinfokit-2.0.8 textwrap3-0.9.2\n"
          ]
        },
        {
          "output_type": "stream",
          "name": "stderr",
          "text": [
            "/usr/local/lib/python3.7/dist-packages/statsmodels/tools/_testing.py:19: FutureWarning: pandas.util.testing is deprecated. Use the functions in the public API at pandas.testing instead.\n",
            "  import pandas.util.testing as tm\n"
          ]
        },
        {
          "output_type": "execute_result",
          "data": {
            "text/plain": [
              "                  df       sum_sq    mean_sq       F    PR(>F)\n",
              "C(Treatments)    1.0     0.010260   0.010260  0.0009  0.976097\n",
              "Residual       218.0  2485.845808  11.402962     NaN       NaN"
            ],
            "text/html": [
              "\n",
              "  <div id=\"df-e5b68aab-7d98-4e5f-a39f-3fb3470c8fe5\">\n",
              "    <div class=\"colab-df-container\">\n",
              "      <div>\n",
              "<style scoped>\n",
              "    .dataframe tbody tr th:only-of-type {\n",
              "        vertical-align: middle;\n",
              "    }\n",
              "\n",
              "    .dataframe tbody tr th {\n",
              "        vertical-align: top;\n",
              "    }\n",
              "\n",
              "    .dataframe thead th {\n",
              "        text-align: right;\n",
              "    }\n",
              "</style>\n",
              "<table border=\"1\" class=\"dataframe\">\n",
              "  <thead>\n",
              "    <tr style=\"text-align: right;\">\n",
              "      <th></th>\n",
              "      <th>df</th>\n",
              "      <th>sum_sq</th>\n",
              "      <th>mean_sq</th>\n",
              "      <th>F</th>\n",
              "      <th>PR(&gt;F)</th>\n",
              "    </tr>\n",
              "  </thead>\n",
              "  <tbody>\n",
              "    <tr>\n",
              "      <th>C(Treatments)</th>\n",
              "      <td>1.0</td>\n",
              "      <td>0.010260</td>\n",
              "      <td>0.010260</td>\n",
              "      <td>0.0009</td>\n",
              "      <td>0.976097</td>\n",
              "    </tr>\n",
              "    <tr>\n",
              "      <th>Residual</th>\n",
              "      <td>218.0</td>\n",
              "      <td>2485.845808</td>\n",
              "      <td>11.402962</td>\n",
              "      <td>NaN</td>\n",
              "      <td>NaN</td>\n",
              "    </tr>\n",
              "  </tbody>\n",
              "</table>\n",
              "</div>\n",
              "      <button class=\"colab-df-convert\" onclick=\"convertToInteractive('df-e5b68aab-7d98-4e5f-a39f-3fb3470c8fe5')\"\n",
              "              title=\"Convert this dataframe to an interactive table.\"\n",
              "              style=\"display:none;\">\n",
              "        \n",
              "  <svg xmlns=\"http://www.w3.org/2000/svg\" height=\"24px\"viewBox=\"0 0 24 24\"\n",
              "       width=\"24px\">\n",
              "    <path d=\"M0 0h24v24H0V0z\" fill=\"none\"/>\n",
              "    <path d=\"M18.56 5.44l.94 2.06.94-2.06 2.06-.94-2.06-.94-.94-2.06-.94 2.06-2.06.94zm-11 1L8.5 8.5l.94-2.06 2.06-.94-2.06-.94L8.5 2.5l-.94 2.06-2.06.94zm10 10l.94 2.06.94-2.06 2.06-.94-2.06-.94-.94-2.06-.94 2.06-2.06.94z\"/><path d=\"M17.41 7.96l-1.37-1.37c-.4-.4-.92-.59-1.43-.59-.52 0-1.04.2-1.43.59L10.3 9.45l-7.72 7.72c-.78.78-.78 2.05 0 2.83L4 21.41c.39.39.9.59 1.41.59.51 0 1.02-.2 1.41-.59l7.78-7.78 2.81-2.81c.8-.78.8-2.07 0-2.86zM5.41 20L4 18.59l7.72-7.72 1.47 1.35L5.41 20z\"/>\n",
              "  </svg>\n",
              "      </button>\n",
              "      \n",
              "  <style>\n",
              "    .colab-df-container {\n",
              "      display:flex;\n",
              "      flex-wrap:wrap;\n",
              "      gap: 12px;\n",
              "    }\n",
              "\n",
              "    .colab-df-convert {\n",
              "      background-color: #E8F0FE;\n",
              "      border: none;\n",
              "      border-radius: 50%;\n",
              "      cursor: pointer;\n",
              "      display: none;\n",
              "      fill: #1967D2;\n",
              "      height: 32px;\n",
              "      padding: 0 0 0 0;\n",
              "      width: 32px;\n",
              "    }\n",
              "\n",
              "    .colab-df-convert:hover {\n",
              "      background-color: #E2EBFA;\n",
              "      box-shadow: 0px 1px 2px rgba(60, 64, 67, 0.3), 0px 1px 3px 1px rgba(60, 64, 67, 0.15);\n",
              "      fill: #174EA6;\n",
              "    }\n",
              "\n",
              "    [theme=dark] .colab-df-convert {\n",
              "      background-color: #3B4455;\n",
              "      fill: #D2E3FC;\n",
              "    }\n",
              "\n",
              "    [theme=dark] .colab-df-convert:hover {\n",
              "      background-color: #434B5C;\n",
              "      box-shadow: 0px 1px 3px 1px rgba(0, 0, 0, 0.15);\n",
              "      filter: drop-shadow(0px 1px 2px rgba(0, 0, 0, 0.3));\n",
              "      fill: #FFFFFF;\n",
              "    }\n",
              "  </style>\n",
              "\n",
              "      <script>\n",
              "        const buttonEl =\n",
              "          document.querySelector('#df-e5b68aab-7d98-4e5f-a39f-3fb3470c8fe5 button.colab-df-convert');\n",
              "        buttonEl.style.display =\n",
              "          google.colab.kernel.accessAllowed ? 'block' : 'none';\n",
              "\n",
              "        async function convertToInteractive(key) {\n",
              "          const element = document.querySelector('#df-e5b68aab-7d98-4e5f-a39f-3fb3470c8fe5');\n",
              "          const dataTable =\n",
              "            await google.colab.kernel.invokeFunction('convertToInteractive',\n",
              "                                                     [key], {});\n",
              "          if (!dataTable) return;\n",
              "\n",
              "          const docLinkHtml = 'Like what you see? Visit the ' +\n",
              "            '<a target=\"_blank\" href=https://colab.research.google.com/notebooks/data_table.ipynb>data table notebook</a>'\n",
              "            + ' to learn more about interactive tables.';\n",
              "          element.innerHTML = '';\n",
              "          dataTable['output_type'] = 'display_data';\n",
              "          await google.colab.output.renderOutput(dataTable, element);\n",
              "          const docLink = document.createElement('div');\n",
              "          docLink.innerHTML = docLinkHtml;\n",
              "          element.appendChild(docLink);\n",
              "        }\n",
              "      </script>\n",
              "    </div>\n",
              "  </div>\n",
              "  "
            ]
          },
          "metadata": {},
          "execution_count": 6
        }
      ]
    },
    {
      "cell_type": "markdown",
      "source": [
        "**Quantiles, Standardized Residuals and Frequency Plots**"
      ],
      "metadata": {
        "id": "DBWEXhdc6gxw"
      }
    },
    {
      "cell_type": "code",
      "source": [
        "import statsmodels.api as sm\n",
        "import matplotlib.pyplot as plt\n",
        "\n",
        "# res.anova_std_residuals are standardized residuals obtained from ANOVA (check above)\n",
        "sm.qqplot(anova.anova_std_residuals, line='45')\n",
        "plt.xlabel(\"Theoretical Quantiles\")\n",
        "plt.ylabel(\"Standardized Residuals\")\n",
        "plt.show()\n",
        "\n",
        "# histogram\n",
        "plt.hist(anova.anova_model_out.resid, bins='auto', histtype='bar', ec='k') \n",
        "plt.xlabel(\"Residuals\")\n",
        "plt.ylabel('Frequency')\n",
        "plt.show()"
      ],
      "metadata": {
        "colab": {
          "base_uri": "https://localhost:8080/",
          "height": 541
        },
        "id": "gaia2Qri6TGQ",
        "outputId": "35f6f633-3109-4447-be0d-6a32d4c898b0"
      },
      "execution_count": 7,
      "outputs": [
        {
          "output_type": "display_data",
          "data": {
            "text/plain": [
              "<Figure size 432x288 with 1 Axes>"
            ],
            "image/png": "[encoded data removed]"
          },
          "metadata": {
            "needs_background": "light"
          }
        },
        {
          "output_type": "display_data",
          "data": {
            "text/plain": [
              "<Figure size 432x288 with 1 Axes>"
            ],
            "image/png": "[encoded data removed]"
          },
          "metadata": {
            "needs_background": "light"
          }
        }
      ]
    },
    {
      "cell_type": "markdown",
      "source": [
        "**TUKEY HSD Test**\n",
        "\n",
        "Alternatively, Scheffe’s method is completely coherent with ANOVA and considered as more appropriate post hoc test for significant ANOVA for all unplanned comparisons. However, it is highly conservative than other post hoc tests."
      ],
      "metadata": {
        "id": "ZZILvL0w5-7w"
      }
    },
    {
      "cell_type": "code",
      "source": [
        "import warnings\n",
        "from bioinfokit.analys import stat\n",
        "\n",
        "# warning suppressing\n",
        "warnings.simplefilter(action='ignore', category=FutureWarning)\n",
        "\n",
        "# model definition and summary\n",
        "tukey = stat()\n",
        "tukey.tukey_hsd(df=df_melt, res_var='Temperature', xfac_var='Treatments', anova_model='Temperature ~ C(Treatments)')\n",
        "tukey.tukey_summary"
      ],
      "metadata": {
        "colab": {
          "base_uri": "https://localhost:8080/",
          "height": 81
        },
        "id": "0iFLJ6bb5-Dg",
        "outputId": "3b4214d9-c590-49f8-a588-24c1bad851c0"
      },
      "execution_count": 8,
      "outputs": [
        {
          "output_type": "execute_result",
          "data": {
            "text/plain": [
              "     group1     group2      Diff     Lower     Upper   q-value  p-value\n",
              "0  Q(mW/g)   Predicted  0.013658 -0.883757  0.911073  0.042421      0.9"
            ],
            "text/html": [
              "\n",
              "  <div id=\"df-efd54dde-c7c2-4290-a784-4029ce3dca2d\">\n",
              "    <div class=\"colab-df-container\">\n",
              "      <div>\n",
              "<style scoped>\n",
              "    .dataframe tbody tr th:only-of-type {\n",
              "        vertical-align: middle;\n",
              "    }\n",
              "\n",
              "    .dataframe tbody tr th {\n",
              "        vertical-align: top;\n",
              "    }\n",
              "\n",
              "    .dataframe thead th {\n",
              "        text-align: right;\n",
              "    }\n",
              "</style>\n",
              "<table border=\"1\" class=\"dataframe\">\n",
              "  <thead>\n",
              "    <tr style=\"text-align: right;\">\n",
              "      <th></th>\n",
              "      <th>group1</th>\n",
              "      <th>group2</th>\n",
              "      <th>Diff</th>\n",
              "      <th>Lower</th>\n",
              "      <th>Upper</th>\n",
              "      <th>q-value</th>\n",
              "      <th>p-value</th>\n",
              "    </tr>\n",
              "  </thead>\n",
              "  <tbody>\n",
              "    <tr>\n",
              "      <th>0</th>\n",
              "      <td>Q(mW/g)</td>\n",
              "      <td>Predicted</td>\n",
              "      <td>0.013658</td>\n",
              "      <td>-0.883757</td>\n",
              "      <td>0.911073</td>\n",
              "      <td>0.042421</td>\n",
              "      <td>0.9</td>\n",
              "    </tr>\n",
              "  </tbody>\n",
              "</table>\n",
              "</div>\n",
              "      <button class=\"colab-df-convert\" onclick=\"convertToInteractive('df-efd54dde-c7c2-4290-a784-4029ce3dca2d')\"\n",
              "              title=\"Convert this dataframe to an interactive table.\"\n",
              "              style=\"display:none;\">\n",
              "        \n",
              "  <svg xmlns=\"http://www.w3.org/2000/svg\" height=\"24px\"viewBox=\"0 0 24 24\"\n",
              "       width=\"24px\">\n",
              "    <path d=\"M0 0h24v24H0V0z\" fill=\"none\"/>\n",
              "    <path d=\"M18.56 5.44l.94 2.06.94-2.06 2.06-.94-2.06-.94-.94-2.06-.94 2.06-2.06.94zm-11 1L8.5 8.5l.94-2.06 2.06-.94-2.06-.94L8.5 2.5l-.94 2.06-2.06.94zm10 10l.94 2.06.94-2.06 2.06-.94-2.06-.94-.94-2.06-.94 2.06-2.06.94z\"/><path d=\"M17.41 7.96l-1.37-1.37c-.4-.4-.92-.59-1.43-.59-.52 0-1.04.2-1.43.59L10.3 9.45l-7.72 7.72c-.78.78-.78 2.05 0 2.83L4 21.41c.39.39.9.59 1.41.59.51 0 1.02-.2 1.41-.59l7.78-7.78 2.81-2.81c.8-.78.8-2.07 0-2.86zM5.41 20L4 18.59l7.72-7.72 1.47 1.35L5.41 20z\"/>\n",
              "  </svg>\n",
              "      </button>\n",
              "      \n",
              "  <style>\n",
              "    .colab-df-container {\n",
              "      display:flex;\n",
              "      flex-wrap:wrap;\n",
              "      gap: 12px;\n",
              "    }\n",
              "\n",
              "    .colab-df-convert {\n",
              "      background-color: #E8F0FE;\n",
              "      border: none;\n",
              "      border-radius: 50%;\n",
              "      cursor: pointer;\n",
              "      display: none;\n",
              "      fill: #1967D2;\n",
              "      height: 32px;\n",
              "      padding: 0 0 0 0;\n",
              "      width: 32px;\n",
              "    }\n",
              "\n",
              "    .colab-df-convert:hover {\n",
              "      background-color: #E2EBFA;\n",
              "      box-shadow: 0px 1px 2px rgba(60, 64, 67, 0.3), 0px 1px 3px 1px rgba(60, 64, 67, 0.15);\n",
              "      fill: #174EA6;\n",
              "    }\n",
              "\n",
              "    [theme=dark] .colab-df-convert {\n",
              "      background-color: #3B4455;\n",
              "      fill: #D2E3FC;\n",
              "    }\n",
              "\n",
              "    [theme=dark] .colab-df-convert:hover {\n",
              "      background-color: #434B5C;\n",
              "      box-shadow: 0px 1px 3px 1px rgba(0, 0, 0, 0.15);\n",
              "      filter: drop-shadow(0px 1px 2px rgba(0, 0, 0, 0.3));\n",
              "      fill: #FFFFFF;\n",
              "    }\n",
              "  </style>\n",
              "\n",
              "      <script>\n",
              "        const buttonEl =\n",
              "          document.querySelector('#df-efd54dde-c7c2-4290-a784-4029ce3dca2d button.colab-df-convert');\n",
              "        buttonEl.style.display =\n",
              "          google.colab.kernel.accessAllowed ? 'block' : 'none';\n",
              "\n",
              "        async function convertToInteractive(key) {\n",
              "          const element = document.querySelector('#df-efd54dde-c7c2-4290-a784-4029ce3dca2d');\n",
              "          const dataTable =\n",
              "            await google.colab.kernel.invokeFunction('convertToInteractive',\n",
              "                                                     [key], {});\n",
              "          if (!dataTable) return;\n",
              "\n",
              "          const docLinkHtml = 'Like what you see? Visit the ' +\n",
              "            '<a target=\"_blank\" href=https://colab.research.google.com/notebooks/data_table.ipynb>data table notebook</a>'\n",
              "            + ' to learn more about interactive tables.';\n",
              "          element.innerHTML = '';\n",
              "          dataTable['output_type'] = 'display_data';\n",
              "          await google.colab.output.renderOutput(dataTable, element);\n",
              "          const docLink = document.createElement('div');\n",
              "          docLink.innerHTML = docLinkHtml;\n",
              "          element.appendChild(docLink);\n",
              "        }\n",
              "      </script>\n",
              "    </div>\n",
              "  </div>\n",
              "  "
            ]
          },
          "metadata": {},
          "execution_count": 8
        }
      ]
    },
    {
      "cell_type": "markdown",
      "source": [
        "**Shapiro-Wilk Test**\n",
        "\n",
        "Can be used to check the normal distribution of residuals. Null hypothesis: data is drawn from normal distribution"
      ],
      "metadata": {
        "id": "3W_GrjT47HZZ"
      }
    },
    {
      "cell_type": "code",
      "source": [
        "from bioinfokit.analys import stat\n",
        "\n",
        "# model definition and summary\n",
        "shapiro = stat()\n",
        "shapiro.bartlett(df=df_melt, res_var='Temperature', xfac_var='Treatments')\n",
        "shapiro.bartlett_summary"
      ],
      "metadata": {
        "colab": {
          "base_uri": "https://localhost:8080/",
          "height": 143
        },
        "id": "n8a5j15j7JUB",
        "outputId": "c21c6fb1-d263-4c96-ec95-6a3915c238c8"
      },
      "execution_count": 9,
      "outputs": [
        {
          "output_type": "execute_result",
          "data": {
            "text/plain": [
              "                 Parameter   Value\n",
              "0      Test statistics (T)  0.0001\n",
              "1  Degrees of freedom (Df)  1.0000\n",
              "2                  p value  0.9922"
            ],
            "text/html": [
              "\n",
              "  <div id=\"df-4cfc5626-6ad1-4666-bb08-e2461f2088d3\">\n",
              "    <div class=\"colab-df-container\">\n",
              "      <div>\n",
              "<style scoped>\n",
              "    .dataframe tbody tr th:only-of-type {\n",
              "        vertical-align: middle;\n",
              "    }\n",
              "\n",
              "    .dataframe tbody tr th {\n",
              "        vertical-align: top;\n",
              "    }\n",
              "\n",
              "    .dataframe thead th {\n",
              "        text-align: right;\n",
              "    }\n",
              "</style>\n",
              "<table border=\"1\" class=\"dataframe\">\n",
              "  <thead>\n",
              "    <tr style=\"text-align: right;\">\n",
              "      <th></th>\n",
              "      <th>Parameter</th>\n",
              "      <th>Value</th>\n",
              "    </tr>\n",
              "  </thead>\n",
              "  <tbody>\n",
              "    <tr>\n",
              "      <th>0</th>\n",
              "      <td>Test statistics (T)</td>\n",
              "      <td>0.0001</td>\n",
              "    </tr>\n",
              "    <tr>\n",
              "      <th>1</th>\n",
              "      <td>Degrees of freedom (Df)</td>\n",
              "      <td>1.0000</td>\n",
              "    </tr>\n",
              "    <tr>\n",
              "      <th>2</th>\n",
              "      <td>p value</td>\n",
              "      <td>0.9922</td>\n",
              "    </tr>\n",
              "  </tbody>\n",
              "</table>\n",
              "</div>\n",
              "      <button class=\"colab-df-convert\" onclick=\"convertToInteractive('df-4cfc5626-6ad1-4666-bb08-e2461f2088d3')\"\n",
              "              title=\"Convert this dataframe to an interactive table.\"\n",
              "              style=\"display:none;\">\n",
              "        \n",
              "  <svg xmlns=\"http://www.w3.org/2000/svg\" height=\"24px\"viewBox=\"0 0 24 24\"\n",
              "       width=\"24px\">\n",
              "    <path d=\"M0 0h24v24H0V0z\" fill=\"none\"/>\n",
              "    <path d=\"M18.56 5.44l.94 2.06.94-2.06 2.06-.94-2.06-.94-.94-2.06-.94 2.06-2.06.94zm-11 1L8.5 8.5l.94-2.06 2.06-.94-2.06-.94L8.5 2.5l-.94 2.06-2.06.94zm10 10l.94 2.06.94-2.06 2.06-.94-2.06-.94-.94-2.06-.94 2.06-2.06.94z\"/><path d=\"M17.41 7.96l-1.37-1.37c-.4-.4-.92-.59-1.43-.59-.52 0-1.04.2-1.43.59L10.3 9.45l-7.72 7.72c-.78.78-.78 2.05 0 2.83L4 21.41c.39.39.9.59 1.41.59.51 0 1.02-.2 1.41-.59l7.78-7.78 2.81-2.81c.8-.78.8-2.07 0-2.86zM5.41 20L4 18.59l7.72-7.72 1.47 1.35L5.41 20z\"/>\n",
              "  </svg>\n",
              "      </button>\n",
              "      \n",
              "  <style>\n",
              "    .colab-df-container {\n",
              "      display:flex;\n",
              "      flex-wrap:wrap;\n",
              "      gap: 12px;\n",
              "    }\n",
              "\n",
              "    .colab-df-convert {\n",
              "      background-color: #E8F0FE;\n",
              "      border: none;\n",
              "      border-radius: 50%;\n",
              "      cursor: pointer;\n",
              "      display: none;\n",
              "      fill: #1967D2;\n",
              "      height: 32px;\n",
              "      padding: 0 0 0 0;\n",
              "      width: 32px;\n",
              "    }\n",
              "\n",
              "    .colab-df-convert:hover {\n",
              "      background-color: #E2EBFA;\n",
              "      box-shadow: 0px 1px 2px rgba(60, 64, 67, 0.3), 0px 1px 3px 1px rgba(60, 64, 67, 0.15);\n",
              "      fill: #174EA6;\n",
              "    }\n",
              "\n",
              "    [theme=dark] .colab-df-convert {\n",
              "      background-color: #3B4455;\n",
              "      fill: #D2E3FC;\n",
              "    }\n",
              "\n",
              "    [theme=dark] .colab-df-convert:hover {\n",
              "      background-color: #434B5C;\n",
              "      box-shadow: 0px 1px 3px 1px rgba(0, 0, 0, 0.15);\n",
              "      filter: drop-shadow(0px 1px 2px rgba(0, 0, 0, 0.3));\n",
              "      fill: #FFFFFF;\n",
              "    }\n",
              "  </style>\n",
              "\n",
              "      <script>\n",
              "        const buttonEl =\n",
              "          document.querySelector('#df-4cfc5626-6ad1-4666-bb08-e2461f2088d3 button.colab-df-convert');\n",
              "        buttonEl.style.display =\n",
              "          google.colab.kernel.accessAllowed ? 'block' : 'none';\n",
              "\n",
              "        async function convertToInteractive(key) {\n",
              "          const element = document.querySelector('#df-4cfc5626-6ad1-4666-bb08-e2461f2088d3');\n",
              "          const dataTable =\n",
              "            await google.colab.kernel.invokeFunction('convertToInteractive',\n",
              "                                                     [key], {});\n",
              "          if (!dataTable) return;\n",
              "\n",
              "          const docLinkHtml = 'Like what you see? Visit the ' +\n",
              "            '<a target=\"_blank\" href=https://colab.research.google.com/notebooks/data_table.ipynb>data table notebook</a>'\n",
              "            + ' to learn more about interactive tables.';\n",
              "          element.innerHTML = '';\n",
              "          dataTable['output_type'] = 'display_data';\n",
              "          await google.colab.output.renderOutput(dataTable, element);\n",
              "          const docLink = document.createElement('div');\n",
              "          docLink.innerHTML = docLinkHtml;\n",
              "          element.appendChild(docLink);\n",
              "        }\n",
              "      </script>\n",
              "    </div>\n",
              "  </div>\n",
              "  "
            ]
          },
          "metadata": {},
          "execution_count": 9
        }
      ]
    },
    {
      "cell_type": "markdown",
      "source": [
        "**Levene's Test**\n",
        "\n",
        "Can be used to check the Homogeneity of variances when the data is not drawn from normal distribution."
      ],
      "metadata": {
        "id": "J8uEgjw47Y1p"
      }
    },
    {
      "cell_type": "code",
      "source": [
        "from bioinfokit.analys import stat \n",
        "\n",
        "# model definition and summary\n",
        "levene = stat()\n",
        "levene.levene(df=df_melt, res_var='Temperature', xfac_var='Treatments')\n",
        "levene.levene_summary"
      ],
      "metadata": {
        "colab": {
          "base_uri": "https://localhost:8080/",
          "height": 143
        },
        "id": "MD0LhCN07oa5",
        "outputId": "d5f7bd38-df76-478a-8c0f-d2497b277166"
      },
      "execution_count": 10,
      "outputs": [
        {
          "output_type": "execute_result",
          "data": {
            "text/plain": [
              "                 Parameter   Value\n",
              "0      Test statistics (W)  0.0032\n",
              "1  Degrees of freedom (Df)  1.0000\n",
              "2                  p value  0.9546"
            ],
            "text/html": [
              "\n",
              "  <div id=\"df-3fd9b34f-d7aa-4e44-a69e-7bd81c93a890\">\n",
              "    <div class=\"colab-df-container\">\n",
              "      <div>\n",
              "<style scoped>\n",
              "    .dataframe tbody tr th:only-of-type {\n",
              "        vertical-align: middle;\n",
              "    }\n",
              "\n",
              "    .dataframe tbody tr th {\n",
              "        vertical-align: top;\n",
              "    }\n",
              "\n",
              "    .dataframe thead th {\n",
              "        text-align: right;\n",
              "    }\n",
              "</style>\n",
              "<table border=\"1\" class=\"dataframe\">\n",
              "  <thead>\n",
              "    <tr style=\"text-align: right;\">\n",
              "      <th></th>\n",
              "      <th>Parameter</th>\n",
              "      <th>Value</th>\n",
              "    </tr>\n",
              "  </thead>\n",
              "  <tbody>\n",
              "    <tr>\n",
              "      <th>0</th>\n",
              "      <td>Test statistics (W)</td>\n",
              "      <td>0.0032</td>\n",
              "    </tr>\n",
              "    <tr>\n",
              "      <th>1</th>\n",
              "      <td>Degrees of freedom (Df)</td>\n",
              "      <td>1.0000</td>\n",
              "    </tr>\n",
              "    <tr>\n",
              "      <th>2</th>\n",
              "      <td>p value</td>\n",
              "      <td>0.9546</td>\n",
              "    </tr>\n",
              "  </tbody>\n",
              "</table>\n",
              "</div>\n",
              "      <button class=\"colab-df-convert\" onclick=\"convertToInteractive('df-3fd9b34f-d7aa-4e44-a69e-7bd81c93a890')\"\n",
              "              title=\"Convert this dataframe to an interactive table.\"\n",
              "              style=\"display:none;\">\n",
              "        \n",
              "  <svg xmlns=\"http://www.w3.org/2000/svg\" height=\"24px\"viewBox=\"0 0 24 24\"\n",
              "       width=\"24px\">\n",
              "    <path d=\"M0 0h24v24H0V0z\" fill=\"none\"/>\n",
              "    <path d=\"M18.56 5.44l.94 2.06.94-2.06 2.06-.94-2.06-.94-.94-2.06-.94 2.06-2.06.94zm-11 1L8.5 8.5l.94-2.06 2.06-.94-2.06-.94L8.5 2.5l-.94 2.06-2.06.94zm10 10l.94 2.06.94-2.06 2.06-.94-2.06-.94-.94-2.06-.94 2.06-2.06.94z\"/><path d=\"M17.41 7.96l-1.37-1.37c-.4-.4-.92-.59-1.43-.59-.52 0-1.04.2-1.43.59L10.3 9.45l-7.72 7.72c-.78.78-.78 2.05 0 2.83L4 21.41c.39.39.9.59 1.41.59.51 0 1.02-.2 1.41-.59l7.78-7.78 2.81-2.81c.8-.78.8-2.07 0-2.86zM5.41 20L4 18.59l7.72-7.72 1.47 1.35L5.41 20z\"/>\n",
              "  </svg>\n",
              "      </button>\n",
              "      \n",
              "  <style>\n",
              "    .colab-df-container {\n",
              "      display:flex;\n",
              "      flex-wrap:wrap;\n",
              "      gap: 12px;\n",
              "    }\n",
              "\n",
              "    .colab-df-convert {\n",
              "      background-color: #E8F0FE;\n",
              "      border: none;\n",
              "      border-radius: 50%;\n",
              "      cursor: pointer;\n",
              "      display: none;\n",
              "      fill: #1967D2;\n",
              "      height: 32px;\n",
              "      padding: 0 0 0 0;\n",
              "      width: 32px;\n",
              "    }\n",
              "\n",
              "    .colab-df-convert:hover {\n",
              "      background-color: #E2EBFA;\n",
              "      box-shadow: 0px 1px 2px rgba(60, 64, 67, 0.3), 0px 1px 3px 1px rgba(60, 64, 67, 0.15);\n",
              "      fill: #174EA6;\n",
              "    }\n",
              "\n",
              "    [theme=dark] .colab-df-convert {\n",
              "      background-color: #3B4455;\n",
              "      fill: #D2E3FC;\n",
              "    }\n",
              "\n",
              "    [theme=dark] .colab-df-convert:hover {\n",
              "      background-color: #434B5C;\n",
              "      box-shadow: 0px 1px 3px 1px rgba(0, 0, 0, 0.15);\n",
              "      filter: drop-shadow(0px 1px 2px rgba(0, 0, 0, 0.3));\n",
              "      fill: #FFFFFF;\n",
              "    }\n",
              "  </style>\n",
              "\n",
              "      <script>\n",
              "        const buttonEl =\n",
              "          document.querySelector('#df-3fd9b34f-d7aa-4e44-a69e-7bd81c93a890 button.colab-df-convert');\n",
              "        buttonEl.style.display =\n",
              "          google.colab.kernel.accessAllowed ? 'block' : 'none';\n",
              "\n",
              "        async function convertToInteractive(key) {\n",
              "          const element = document.querySelector('#df-3fd9b34f-d7aa-4e44-a69e-7bd81c93a890');\n",
              "          const dataTable =\n",
              "            await google.colab.kernel.invokeFunction('convertToInteractive',\n",
              "                                                     [key], {});\n",
              "          if (!dataTable) return;\n",
              "\n",
              "          const docLinkHtml = 'Like what you see? Visit the ' +\n",
              "            '<a target=\"_blank\" href=https://colab.research.google.com/notebooks/data_table.ipynb>data table notebook</a>'\n",
              "            + ' to learn more about interactive tables.';\n",
              "          element.innerHTML = '';\n",
              "          dataTable['output_type'] = 'display_data';\n",
              "          await google.colab.output.renderOutput(dataTable, element);\n",
              "          const docLink = document.createElement('div');\n",
              "          docLink.innerHTML = docLinkHtml;\n",
              "          element.appendChild(docLink);\n",
              "        }\n",
              "      </script>\n",
              "    </div>\n",
              "  </div>\n",
              "  "
            ]
          },
          "metadata": {},
          "execution_count": 10
        }
      ]
    },
    {
      "cell_type": "markdown",
      "source": [
        "**Numerical Derivation Process**\n",
        "\n",
        "\n",
        "Return the gradient of an N-dimensional array.\n",
        "\n",
        "> The gradient is computed using second order accurate central differences in the interior points and either first or second order accurate one-sides (forward or backwards) differences at the boundaries. The returned gradient hence has the same shape as the input array.\n",
        "\n",
        "Docs: https://numpy.org/doc/stable/reference/generated/numpy.gradient.html"
      ],
      "metadata": {
        "id": "uIwezfz_7_ih"
      }
    },
    {
      "cell_type": "code",
      "source": [
        "import numpy as np\n",
        "\n",
        "x_initial = np.array(x_axis)\n",
        "y_initial = np.array(y_predicted)\n",
        "\n",
        "# derivation process\n",
        "der1 = np.gradient(y_initial,x_initial)\n",
        "der2 = np.gradient(der1,x_initial)\n",
        "\n",
        "# graph labels\n",
        "plt.title(\"Processed Data, 1° and 2° Derivates\", fontsize=12)\n",
        "plt.ylabel(\"Temperature °C\", fontsize=12)\n",
        "plt.xlabel(\"Time (Hrs)\", fontsize=12)\n",
        "\n",
        "# data series\n",
        "plt.plot(x_initial, y_initial, color='blue', label='Initial Data')\n",
        "plt.plot(x_initial, der1, color='red', label='1° Derivative')\n",
        "plt.plot(x_initial, der2, color='green', label='2° Derivative')\n",
        "plt.plot(np.zeros_like(x_initial), \"--\", color=\"gray\")\n",
        "plt.legend(loc='upper right', frameon=False)\n",
        "\n",
        "# graph limits\n",
        "plt.xlim(-1, max(x_axis))\n",
        "plt.ylim(-max(y_axis) - 1, max(y_axis) + 1)\n",
        "plt.show()"
      ],
      "metadata": {
        "colab": {
          "base_uri": "https://localhost:8080/",
          "height": 298
        },
        "id": "FYrAM7lS8D44",
        "outputId": "06a68150-d81b-4422-878b-531786d2c3fd"
      },
      "execution_count": 11,
      "outputs": [
        {
          "output_type": "display_data",
          "data": {
            "text/plain": [
              "<Figure size 432x288 with 1 Axes>"
            ],
            "image/png": "[encoded data removed]"
          },
          "metadata": {
            "needs_background": "light"
          }
        }
      ]
    },
    {
      "cell_type": "markdown",
      "source": [
        "**Signal Finds Peaks and Valleys**\n",
        "\n",
        "Find peaks inside a signal based on peak properties.\n",
        "\n",
        "> This function takes a 1-D array and finds all local maxima by simple comparison of neighboring values. Optionally, a subset of these peaks can be selected by specifying conditions for a peak’s properties.\n",
        "\n",
        "Docs: https://docs.scipy.org/doc/scipy/reference/generated/scipy.signal.find_peaks.html"
      ],
      "metadata": {
        "id": "APldC7wDC8oa"
      }
    },
    {
      "cell_type": "code",
      "source": [
        "import numpy as np\n",
        "from scipy.signal import find_peaks\n",
        "\n",
        "# peaks and valleys identification\n",
        "tops, _ = find_peaks(y_predicted, distance=30)\n",
        "valleys, _ = find_peaks(-y_predicted, distance=30)\n",
        "peaks = np.concatenate((tops, valleys), axis = 0)\n",
        "peaks.sort(axis=0)"
      ],
      "metadata": {
        "id": "zBVupbVBDDvq"
      },
      "execution_count": 12,
      "outputs": []
    },
    {
      "cell_type": "code",
      "source": [
        "import matplotlib.pyplot as plt\n",
        "\n",
        "# graph size and main definitions\n",
        "plt.rcParams[\"figure.figsize\"] = (16,8)\n",
        "plt.subplots_adjust(hspace = .001)\n",
        "fig, ax = plt.subplots(2, 1, sharex='col', sharey='row')\n",
        "\n",
        "# initial graph\n",
        "ax[0].scatter(x_axis, y_axis, marker='x', color='blue', alpha=0.3, label='Initial Data')\n",
        "ax[0].plot(x_axis, y_predicted, color=\"green\", alpha=0.8, label='ANN Model Data')\n",
        "\n",
        "# zones transition identification\n",
        "_prompt1 = '1st Transition: {:.2f} hrs'.format(x_axis[peaks[0]])\n",
        "ax[0].plot(x_axis[peaks[0]], y_predicted[peaks[0]], \"o\", color=\"red\", label='1st Transition')\n",
        "ax[0].vlines(x_axis[peaks[0]], 0, max(y_predicted), color=\"gray\", linestyles='dashed')  # vertical zones\n",
        "ax[0].text(x_axis[peaks[0]], y_predicted[peaks[0]], '          First Mode',\n",
        "         rotation='vertical', fontsize=12, ha='right', va='bottom')  # data labels\n",
        "\n",
        "_prompt2 = '2nd Transition: {:.2f} hrs'.format(x_axis[peaks[1]])\n",
        "ax[0].plot(x_axis[peaks[1]], y_predicted[peaks[1]], \"o\", color=(0.5, 0.1, 1), label='2st Transition')\n",
        "ax[0].vlines(x_axis[peaks[1]], 0, max(y_predicted), color=\"gray\", linestyles='dashed')  # vertical zones\n",
        "ax[0].text(x_axis[peaks[1]], y_predicted[peaks[1]], '          Second Mode',\n",
        "         rotation='vertical', fontsize=12, ha='right', va='bottom')  # data labels\n",
        "\n",
        "_prompt3 = '3rd Transition: {:.2f} hrs'.format(x_axis[peaks[-2]])\n",
        "ax[0].plot(x_axis[peaks[-2]], y_predicted[peaks[-2]], \"o\", color=(0, 0, 1), label='3st Transition')\n",
        "ax[0].vlines(x_axis[peaks[-2]], 0, max(y_predicted), color=\"gray\", linestyles='dashed')  # vertical zones\n",
        "ax[0].text(x_axis[peaks[-2]], y_predicted[peaks[-2]], '          Third Mode',\n",
        "         rotation='vertical', fontsize=12, ha='right', va='bottom')  # data labels\n",
        "\n",
        "_prompt4 = '4th Transition: {:.2f} hrs\\n'.format(x_axis[peaks[-1]])\n",
        "ax[0].plot(x_axis[peaks[-1]], y_predicted[peaks[-1]], \"o\", color=(0.8, 0.4, 0), label='Heat Flow Endpoint')\n",
        "ax[0].vlines(x_axis[peaks[-1]], 0, max(y_predicted), color=\"gray\", linestyles='dashed')  # vertical zones\n",
        "ax[0].text(x_axis[peaks[-1]], y_predicted[peaks[-1]], '          Fourth Mode',\n",
        "         rotation='vertical', fontsize=12, ha='right', va='bottom')  # data labels\n",
        "\n",
        "ax[0].legend(loc='upper right', frameon=False, fontsize=12)\n",
        "\n",
        "\n",
        "# staircase graph\n",
        "_mod_steps = [0, x_axis[peaks[0]], \n",
        "              x_axis[peaks[1]],\n",
        "              x_axis[peaks[-2]],\n",
        "              x_axis[peaks[-1]]]\n",
        "_levels = [1,2,3,4,4]\n",
        "\n",
        "for _index in range(0, len(_mod_steps) - 1):\n",
        "    _x_start = _mod_steps[_index]\n",
        "    _x_end = _mod_steps[_index + 1]\n",
        "    _level = _levels[_index]\n",
        "    \n",
        "    ax[1].plot([_x_start, _x_end], [_level, _level], color='green', alpha=1)  # step line\n",
        "    ax[1].vlines(_x_start, 0.8, max(_levels) + 1, color=\"gray\", linestyles='dashed')  # vertical zones\n",
        "    ax[1].text(_x_start, 0, f'{_index + 1}° Mode', rotation='vertical',\n",
        "               fontsize=12, ha='left', va='bottom')  # data labels\n",
        "\n",
        "# last vertical zone\n",
        "ax[1].vlines(_mod_steps[-1], 1, max(_levels) + 1, color=\"gray\", linestyles='dashed')\n",
        "\n",
        "# graph limits\n",
        "ax[0].set_xlim([-0.5, max(x_axis) + 1])\n",
        "ax[0].set_ylim([0, max(y_predicted) + 0.5])\n",
        "ax[1].set_ylim([-0.1, 4.5])\n",
        "\n",
        "# graph labels\n",
        "ax[0].set_title('Thermal Dataset Transitions', fontsize=20)\n",
        "ax[0].set_ylabel(y_header, fontsize=16)\n",
        "ax[1].set_ylabel('Mode Levels', fontsize=16)\n",
        "ax[1].set_xlabel('Time (Hrs)', fontsize=16)\n",
        "\n",
        "ax[1].text(_mod_steps[-1] + 0.2, 0, _prompt1 + '\\n' + _prompt2 + '\\n' +_prompt3 + '\\n' +_prompt4, fontsize=14)\n",
        "\n",
        "plt.tight_layout(pad=0, h_pad=None, w_pad=None, rect=None)\n",
        "plt.show()"
      ],
      "metadata": {
        "colab": {
          "base_uri": "https://localhost:8080/",
          "height": 623
        },
        "id": "6HZoLqFNPI67",
        "outputId": "f6bdb818-8ebd-4ad6-89d8-576ffaeee5ad"
      },
      "execution_count": 13,
      "outputs": [
        {
          "output_type": "display_data",
          "data": {
            "text/plain": [
              "<Figure size 1152x576 with 0 Axes>"
            ]
          },
          "metadata": {}
        },
        {
          "output_type": "display_data",
          "data": {
            "text/plain": [
              "<Figure size 1152x576 with 2 Axes>"
            ],
            "image/png": "[encoded data removed]"
          },
          "metadata": {
            "needs_background": "light"
          }
        }
      ]
    }
  ],
  "metadata": {
    "colab": {
      "name": "thermal_data_processing.ipynb",
      "provenance": [],
      "collapsed_sections": []
    },
    "kernelspec": {
      "display_name": "Python 3",
      "name": "python3"
    },
    "language_info": {
      "name": "python"
    }
  },
  "nbformat": 4,
  "nbformat_minor": 0
}